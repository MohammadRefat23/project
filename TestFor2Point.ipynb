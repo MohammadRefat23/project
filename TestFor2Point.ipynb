{
 "cells": [
  {
   "cell_type": "code",
   "execution_count": 8,
   "metadata": {},
   "outputs": [],
   "source": [
    "import numpy as np\n",
    "import matplotlib.pyplot as plt\n",
    "import cPickle as p\n",
    "import glob\n",
    "import os"
   ]
  },
  {
   "cell_type": "code",
   "execution_count": 9,
   "metadata": {},
   "outputs": [],
   "source": [
    "List = glob.glob(os.path.join('./data/', '*.p'))"
   ]
  },
  {
   "cell_type": "code",
   "execution_count": 12,
   "metadata": {},
   "outputs": [
    {
     "ename": "SyntaxError",
     "evalue": "EOL while scanning string literal (<ipython-input-12-bb4cdec80a50>, line 46)",
     "output_type": "error",
     "traceback": [
      "\u001b[0;36m  File \u001b[0;32m\"<ipython-input-12-bb4cdec80a50>\"\u001b[0;36m, line \u001b[0;32m46\u001b[0m\n\u001b[0;31m    np.savetxt(i+\"\".txt\",tp_2d)\u001b[0m\n\u001b[0m                              ^\u001b[0m\n\u001b[0;31mSyntaxError\u001b[0m\u001b[0;31m:\u001b[0m EOL while scanning string literal\n"
     ]
    }
   ],
   "source": [
    "for i in List:\n",
    "    \n",
    "    Z = p.load(open(i))\n",
    "    Zxy_data = Z['z']['data']\n",
    "    Zxy_bounds = Z['z']['bounds']\n",
    "    Nx,Ny = Zxy_data.shape\n",
    "    Lx = Zxy_bounds[1] - Zxy_bounds[0]\n",
    "    Ly = Zxy_bounds[3] - Zxy_bounds[2]\n",
    "    Xmin = Zxy_bounds[0]\n",
    "    Ymin = Zxy_bounds[2]\n",
    "    i_index = np.arange(Nx)\n",
    "    j_index = np.arange(Ny)\n",
    "    dx = Lx/Nx\n",
    "    dy = Ly/Ny\n",
    "    Xi = i_index * dx + Xmin + dx/2\n",
    "    Yj = j_index * dy + Ymin + dy/2\n",
    "    Nr = 20\n",
    "    rMax = Lx/2\n",
    "    angleMax = 2 * np.pi\n",
    "    dr = rMax/Nr\n",
    "    rindex = np.arange(Nr)\n",
    "    \n",
    "    def TwoPoint(Data,NumAngle):\n",
    "     \n",
    "        r = rindex * dr\n",
    "        dangle = angleMax/NumAngle\n",
    "        angleindex = np.arange(NumAngle)\n",
    "        angle = angleindex * dangle\n",
    "        TwoPoint = []\n",
    "        Zmean=Zxy_data.mean()\n",
    "        Zvar=Zxy_data.var()\n",
    "        for rad in r:\n",
    "            for ang in angle:\n",
    "                dxi = (rad * np.cos(ang))\n",
    "                dyj = (rad * np.sin(ang))\n",
    "                di = dxi / dx\n",
    "                dj = dyj / dy\n",
    "                sum = 0\n",
    "                for i in i_index:\n",
    "                    for j in j_index:\n",
    "                        i2=(i+int(round(di)))%Nx\n",
    "                        j2=(j+int(round(dj)))%Ny\n",
    "                        sum += Zxy_data[i,j] * Zxy_data[i2,j2]\n",
    "                TwoPoint.append(sum/(Nx * Ny))\n",
    "        tp_2d=(np.array(TwoPoint).reshape(Nr,NumAngle)-Zmean**2)/Zvar\n",
    "        np.savetxt(i+\"\".txt\",tp_2d)"
   ]
  },
  {
   "cell_type": "code",
   "execution_count": 6,
   "metadata": {},
   "outputs": [],
   "source": [
    "TwoPoint('data/R8_8pc_metal.0000.scal0.p',1)"
   ]
  },
  {
   "cell_type": "code",
   "execution_count": 7,
   "metadata": {},
   "outputs": [
    {
     "name": "stdout",
     "output_type": "stream",
     "text": [
      "1.txt                            Two-Point.png\r\n",
      "MyCode.ipynb                     Untitled.ipynb\r\n",
      "MyCode_Function.ipynb            Untitled1.ipynb\r\n",
      "MyCode_FunctionLoop.ipynb        \u001b[34mdata\u001b[m\u001b[m/\r\n",
      "README.md                        index.html\r\n",
      "TestFor2Point.ipynb              metal_correlation-example.ipynb\r\n"
     ]
    }
   ],
   "source": []
  },
  {
   "cell_type": "code",
   "execution_count": null,
   "metadata": {},
   "outputs": [],
   "source": []
  }
 ],
 "metadata": {
  "kernelspec": {
   "display_name": "Python 2",
   "language": "python",
   "name": "python2"
  },
  "language_info": {
   "codemirror_mode": {
    "name": "ipython",
    "version": 2
   },
   "file_extension": ".py",
   "mimetype": "text/x-python",
   "name": "python",
   "nbconvert_exporter": "python",
   "pygments_lexer": "ipython2",
   "version": "2.7.15"
  }
 },
 "nbformat": 4,
 "nbformat_minor": 2
}
