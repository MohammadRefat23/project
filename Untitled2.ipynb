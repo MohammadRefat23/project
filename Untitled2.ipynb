{
 "cells": [
  {
   "cell_type": "code",
   "execution_count": 10,
   "metadata": {},
   "outputs": [],
   "source": [
    "import numpy as np\n",
    "import matplotlib.pyplot as plt\n",
    "import cPickle as p\n",
    "import os"
   ]
  },
  {
   "cell_type": "code",
   "execution_count": 14,
   "metadata": {},
   "outputs": [
    {
     "ename": "IOError",
     "evalue": "[Errno 2] No such file or directory: 'R8_8pc_metal.0693.scal0.p'",
     "output_type": "error",
     "traceback": [
      "\u001b[0;31m---------------------------------------------------------------------------\u001b[0m",
      "\u001b[0;31mIOError\u001b[0m                                   Traceback (most recent call last)",
      "\u001b[0;32m<ipython-input-14-64b8d0ff236d>\u001b[0m in \u001b[0;36m<module>\u001b[0;34m()\u001b[0m\n\u001b[1;32m      6\u001b[0m \u001b[0;34m\u001b[0m\u001b[0m\n\u001b[1;32m      7\u001b[0m \u001b[0;34m\u001b[0m\u001b[0m\n\u001b[0;32m----> 8\u001b[0;31m     \u001b[0mZ\u001b[0m \u001b[0;34m=\u001b[0m \u001b[0mp\u001b[0m\u001b[0;34m.\u001b[0m\u001b[0mload\u001b[0m\u001b[0;34m(\u001b[0m\u001b[0mopen\u001b[0m\u001b[0;34m(\u001b[0m\u001b[0mi\u001b[0m\u001b[0;34m)\u001b[0m\u001b[0;34m)\u001b[0m\u001b[0;34m\u001b[0m\u001b[0m\n\u001b[0m\u001b[1;32m      9\u001b[0m \u001b[0;34m\u001b[0m\u001b[0m\n\u001b[1;32m     10\u001b[0m     \u001b[0mZxy_data\u001b[0m \u001b[0;34m=\u001b[0m \u001b[0mZ\u001b[0m\u001b[0;34m[\u001b[0m\u001b[0;34m'z'\u001b[0m\u001b[0;34m]\u001b[0m\u001b[0;34m[\u001b[0m\u001b[0;34m\"data\"\u001b[0m\u001b[0;34m]\u001b[0m\u001b[0;34m\u001b[0m\u001b[0m\n",
      "\u001b[0;31mIOError\u001b[0m: [Errno 2] No such file or directory: 'R8_8pc_metal.0693.scal0.p'"
     ]
    }
   ],
   "source": [
    "### Loop that stores array data for each snapshot in a text file\n",
    "\n",
    "List = os.listdir('data')\n",
    "\n",
    "for i in List:\n",
    "    \n",
    "\n",
    "    Z = p.load(open(i))\n",
    "\n",
    "    Zxy_data = Z['z'][\"data\"]\n",
    "    Zxy_bounds = Z['z'][\"bounds\"]\n",
    "    Nx,Ny = Zxy_data.shape\n",
    "\n",
    "    Lx = Zxy_bounds[1] - Zxy_bounds[0]\n",
    "    Ly = Zxy_bounds[3] - Zxy_bounds[2]\n",
    "\n",
    "    Xmin = Zxy_bounds[0]\n",
    "    Ymin = Zxy_bounds[2]\n",
    "\n",
    "    i_index = np.arange(Nx)\n",
    "    j_index = np.arange(Ny)\n",
    "\n",
    "    dx = Lx/Nx\n",
    "    dy = Ly/Ny\n",
    "\n",
    "    Xi = i_index * dx + Xmin + dx/2\n",
    "    Yj = j_index * dy + Ymin + dy/2\n",
    "\n",
    "    Nr = 50\n",
    "    rMax = Lx/2\n",
    "\n",
    "    dr = rMax / Nr\n",
    "    rindex = np.arange(Nr)\n",
    "    r = rindex * dr \n",
    "\n",
    "    def TwoPointFuct(Data,rArray,NumAngle,dx,dy):\n",
    "        TwoPoint = []\n",
    "        Zmean=Data.mean()\n",
    "        Zvar=Data.var()\n",
    "        angleMax = 2 * np.pi\n",
    "        dangle = angleMax/NumAngle\n",
    "        angleindex = np.arange(NumAngle)\n",
    "        angle = angleindex * dangle\n",
    "        Nx,Ny = Data.shape\n",
    "        i_index = np.arange(Nx)\n",
    "        j_index = np.arange(Ny)\n",
    "        Nr, = rArray.shape\n",
    "        for rad in rArray:\n",
    "            for ang in angle:\n",
    "                dxi = (rad * np.cos(ang))\n",
    "                dyj = (rad * np.sin(ang))\n",
    "                di = dxi / dx\n",
    "                dj = dyj / dy\n",
    "                sum = 0\n",
    "                for i in i_index:\n",
    "                    for j in j_index:\n",
    "                        i2=(i+int(round(di)))%Nx\n",
    "                        j2=(j+int(round(dj)))%Ny\n",
    "                        sum += Data[i,j] * Data[i2,j2]\n",
    "                TwoPoint.append(sum/(Nx * Ny))\n",
    "        tp_2d=(np.array(TwoPoint).reshape(Nr,NumAngle)-Zmean**2)/Zvar\n",
    "\n",
    "\n",
    "    tp_2d = TwoPointFuct(Zxy_data,r,1,dx,dy)\n",
    "    np.savetxt('File'+i.txt,tp_2d)"
   ]
  },
  {
   "cell_type": "code",
   "execution_count": null,
   "metadata": {},
   "outputs": [],
   "source": []
  }
 ],
 "metadata": {
  "kernelspec": {
   "display_name": "Python 2",
   "language": "python",
   "name": "python2"
  },
  "language_info": {
   "codemirror_mode": {
    "name": "ipython",
    "version": 2
   },
   "file_extension": ".py",
   "mimetype": "text/x-python",
   "name": "python",
   "nbconvert_exporter": "python",
   "pygments_lexer": "ipython2",
   "version": "2.7.15"
  }
 },
 "nbformat": 4,
 "nbformat_minor": 2
}
