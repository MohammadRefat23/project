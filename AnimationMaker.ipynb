{
 "cells": [
  {
   "cell_type": "code",
   "execution_count": 1,
   "metadata": {},
   "outputs": [],
   "source": [
    "### Importing packages \n",
    "\n",
    "import numpy as np\n",
    "import matplotlib.pyplot as plt\n",
    "import cPickle as p\n",
    "import glob\n",
    "import os\n",
    "import matplotlib.animation as animation"
   ]
  },
  {
   "cell_type": "code",
   "execution_count": 2,
   "metadata": {},
   "outputs": [],
   "source": [
    "### Creating a list with all the data files in it\n",
    "\n",
    "List = glob.glob(os.path.join('./data/', '*.txt'))\n",
    "List.sort()\n",
    "textName=List[300]\n",
    "pickleName = textName.replace('.txt','')"
   ]
  },
  {
   "cell_type": "code",
   "execution_count": null,
   "metadata": {},
   "outputs": [],
   "source": [
    "### Loading data from a specific file\n",
    "\n",
    "Z = p.load(open(pickleName))\n",
    "\n",
    "Zxy_data = Z['z'][\"data\"]\n",
    "Zxy_bounds = Z['z'][\"bounds\"]\n",
    "Nx,Ny = Zxy_data.shape\n",
    "\n",
    "tp_2d = np.loadtxt(textName)"
   ]
  }
 ],
 "metadata": {
  "kernelspec": {
   "display_name": "Python 2",
   "language": "python",
   "name": "python2"
  },
  "language_info": {
   "codemirror_mode": {
    "name": "ipython",
    "version": 2
   },
   "file_extension": ".py",
   "mimetype": "text/x-python",
   "name": "python",
   "nbconvert_exporter": "python",
   "pygments_lexer": "ipython2",
   "version": "2.7.15"
  }
 },
 "nbformat": 4,
 "nbformat_minor": 2
}
