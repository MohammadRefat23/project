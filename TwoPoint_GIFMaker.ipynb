{
 "cells": [
  {
   "cell_type": "code",
   "execution_count": 20,
   "metadata": {},
   "outputs": [],
   "source": [
    "import os\n",
    "import imageio\n",
    "\n",
    "png_dir = './SinglePlots/'\n",
    "images = []\n",
    "\n",
    "for file_name in sorted(os.listdir(png_dir)):\n",
    "    if file_name.endswith('.png'):\n",
    "        file_path = os.path.join(png_dir, file_name)\n",
    "        images.append(imageio.imread(file_path))\n",
    "imageio.mimsave('SNMovie.gif', images)\n"
   ]
  },
  {
   "cell_type": "code",
   "execution_count": 25,
   "metadata": {},
   "outputs": [],
   "source": [
    "png_dir = './Plot2Point//'\n",
    "images = []\n",
    "\n",
    "for file_name in sorted(os.listdir(png_dir)):\n",
    "    if file_name.endswith('.png'):\n",
    "        file_path = os.path.join(png_dir, file_name)\n",
    "        images.append(imageio.imread(file_path))\n",
    "imageio.mimsave('PlotFluct.gif', images)"
   ]
  },
  {
   "cell_type": "code",
   "execution_count": 23,
   "metadata": {},
   "outputs": [
    {
     "name": "stdout",
     "output_type": "stream",
     "text": [
      "Imageio: 'ffmpeg-osx-v3.2.4' was not found on your computer; downloading it now.\n",
      "Try 1. Download from https://github.com/imageio/imageio-binaries/raw/master/ffmpeg/ffmpeg-osx-v3.2.4 (33.8 MB)\n",
      "Downloading: 8192/35458856 bytes (0.04251648/35458856 bytes (12.08937472/35458856 bytes (25.213565952/35458856 bytes (38.3%17260544/35458856 bytes (48.7%21962752/35458856 bytes (61.9%26550272/35458856 bytes (74.9%31211520/35458856 bytes (88.0%35458856/35458856 bytes (100.0%)\n",
      "  Done\n",
      "File saved as /Users/mrefat/Library/Application Support/imageio/ffmpeg/ffmpeg-osx-v3.2.4.\n",
      "[MoviePy] >>>> Building video SNMovie.mp4\n",
      "[MoviePy] Writing video SNMovie.mp4\n"
     ]
    },
    {
     "name": "stderr",
     "output_type": "stream",
     "text": [
      "100%|█████████▉| 701/702 [00:33<00:00, 20.64it/s]\n"
     ]
    },
    {
     "name": "stdout",
     "output_type": "stream",
     "text": [
      "[MoviePy] Done.\n",
      "[MoviePy] >>>> Video ready: SNMovie.mp4 \n",
      "\n"
     ]
    }
   ],
   "source": [
    "import moviepy.editor as mp\n",
    "clip = mp.VideoFileClip(\"SNMovie.gif\")\n",
    "clip.write_videofile(\"SNMovie.mp4\")"
   ]
  },
  {
   "cell_type": "code",
   "execution_count": 26,
   "metadata": {},
   "outputs": [
    {
     "name": "stdout",
     "output_type": "stream",
     "text": [
      "[MoviePy] >>>> Building video PlotFluct.mp4\n",
      "[MoviePy] Writing video PlotFluct.mp4\n"
     ]
    },
    {
     "name": "stderr",
     "output_type": "stream",
     "text": [
      "100%|█████████▉| 701/702 [01:13<00:00,  9.55it/s]\n"
     ]
    },
    {
     "name": "stdout",
     "output_type": "stream",
     "text": [
      "[MoviePy] Done.\n",
      "[MoviePy] >>>> Video ready: PlotFluct.mp4 \n",
      "\n"
     ]
    }
   ],
   "source": [
    "clip = mp.VideoFileClip(\"PlotFluct.gif\")\n",
    "clip.write_videofile(\"PlotFluct.mp4\")"
   ]
  },
  {
   "cell_type": "code",
   "execution_count": null,
   "metadata": {},
   "outputs": [],
   "source": []
  }
 ],
 "metadata": {
  "kernelspec": {
   "display_name": "Python 2",
   "language": "python",
   "name": "python2"
  },
  "language_info": {
   "codemirror_mode": {
    "name": "ipython",
    "version": 2
   },
   "file_extension": ".py",
   "mimetype": "text/x-python",
   "name": "python",
   "nbconvert_exporter": "python",
   "pygments_lexer": "ipython2",
   "version": "2.7.15"
  }
 },
 "nbformat": 4,
 "nbformat_minor": 2
}
