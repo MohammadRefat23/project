{
 "cells": [
  {
   "cell_type": "code",
   "execution_count": 1,
   "metadata": {},
   "outputs": [],
   "source": [
    "### Importing packages \n",
    "\n",
    "import numpy as np\n",
    "import matplotlib.pyplot as plt\n",
    "import cPickle as p\n",
    "import glob\n",
    "import os"
   ]
  },
  {
   "cell_type": "code",
   "execution_count": 2,
   "metadata": {},
   "outputs": [],
   "source": [
    "### Size of the images\n",
    "\n",
    "plt.rcParams['figure.figsize']=(20,10)\n",
    "plt.rcParams['font.size']=20\n",
    "plt.rcParams['figure.dpi']=200"
   ]
  },
  {
   "cell_type": "code",
   "execution_count": 3,
   "metadata": {},
   "outputs": [],
   "source": [
    "### Creating a list with all the data files in it\n",
    "\n",
    "List = glob.glob(os.path.join('./data/', '*.txt'))"
   ]
  },
  {
   "cell_type": "code",
   "execution_count": 7,
   "metadata": {},
   "outputs": [
    {
     "name": "stdout",
     "output_type": "stream",
     "text": [
      "1024.0\n",
      "50\n",
      "512.0\n",
      "[ 0  1  2  3  4  5  6  7  8  9 10 11 12 13 14 15 16 17 18 19 20 21 22 23\n",
      " 24 25 26 27 28 29 30 31 32 33 34 35 36 37 38 39 40 41 42 43 44 45 46 47\n",
      " 48 49]\n",
      "10.24\n",
      "[  0.    10.24  20.48  30.72  40.96  51.2   61.44  71.68  81.92  92.16\n",
      " 102.4  112.64 122.88 133.12 143.36 153.6  163.84 174.08 184.32 194.56\n",
      " 204.8  215.04 225.28 235.52 245.76 256.   266.24 276.48 286.72 296.96\n",
      " 307.2  317.44 327.68 337.92 348.16 358.4  368.64 378.88 389.12 399.36\n",
      " 409.6  419.84 430.08 440.32 450.56 460.8  471.04 481.28 491.52 501.76]\n"
     ]
    }
   ],
   "source": [
    "Lx = Zxy_bounds[1]-Zxy_bounds[0]\n",
    "print Lx\n",
    "Nr = 50\n",
    "print Nr\n",
    "rMax = Lx/2\n",
    "print rMax\n",
    "rindex = np.arange(Nr)\n",
    "print rindex\n",
    "dr = rMax/Nr\n",
    "print dr\n",
    "r = rindex * dr\n",
    "print r  ##x-axis"
   ]
  },
  {
   "cell_type": "code",
   "execution_count": 24,
   "metadata": {},
   "outputs": [],
   "source": [
    "### Loop that goes through the list and creates the plot\n",
    "for i in List:\n",
    "    \n",
    "    textName = i\n",
    "    pickleName = textName.replace('.txt','')\n",
    "    Z = p.load(open(pickleName))\n",
    "    Zxy_data = Z['z'][\"data\"]\n",
    "    Zxy_bounds = Z['z'][\"bounds\"]\n",
    "    Nx,Ny = Zxy_data.shape\n",
    "\n",
    "    tp_2d = np.loadtxt(textName)\n",
    "\n",
    "    ### Plotting the data\n",
    "\n",
    "    plt.subplot(121)\n",
    "    plt.text(-500,400,'{} {} {}'.format('t=',round(Z['time'],1),\"myr\"),color='w')\n",
    "    plt.imshow(Zxy_data,extent=Zxy_bounds)\n",
    "    plt.xlabel(\"$X$ [pc]\")\n",
    "    plt.ylabel(\"$Y$ [pc]\")\n",
    "    plt.clim(0.02,0.03)\n",
    "    cbar = plt.colorbar()\n",
    "    cbar.set_label('z', rotation=-270, labelpad = 10)\n",
    "    plt.subplot(122)\n",
    "    plt.xlabel(\"Radial Separation [pc]\")\n",
    "    plt.ylabel(\"Spatial-Elemental Correlation\")\n",
    "    plt.plot(r,tp_2d.mean(axis=1))\n",
    "    plt.tight_layout()\n",
    "    plt.savefig(\"Plots/\"+i[7:30]+\".png\")\n",
    "    plt.close()"
   ]
  },
  {
   "cell_type": "code",
   "execution_count": null,
   "metadata": {},
   "outputs": [],
   "source": []
  }
 ],
 "metadata": {
  "kernelspec": {
   "display_name": "Python 2",
   "language": "python",
   "name": "python2"
  },
  "language_info": {
   "codemirror_mode": {
    "name": "ipython",
    "version": 2
   },
   "file_extension": ".py",
   "mimetype": "text/x-python",
   "name": "python",
   "nbconvert_exporter": "python",
   "pygments_lexer": "ipython2",
   "version": "2.7.15"
  }
 },
 "nbformat": 4,
 "nbformat_minor": 2
}
